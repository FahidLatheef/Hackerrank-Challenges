{
 "cells": [
  {
   "cell_type": "code",
   "execution_count": null,
   "metadata": {},
   "outputs": [],
   "source": [
    "#Exceptions\n",
    "\n",
    "for i in range(int(input())):  \n",
    "    try:\n",
    "        a,b= map(int,input().split())\n",
    "        print(a//b)\n",
    "    except BaseException as e:\n",
    "        print(\"Error Code:\",e)\n"
   ]
  },
  {
   "cell_type": "code",
   "execution_count": null,
   "metadata": {},
   "outputs": [],
   "source": [
    "#Detect Floating Point Number\n",
    "import re\n",
    "\n",
    "for i in range(int(input())):\n",
    "    string=input()\n",
    "    validation=False\n",
    "    lis=re.findall(r\"[\\.]\",string)\n",
    "    if len(lis)==1:\n",
    "        if string.startswith('.') or string.startswith('+') or string.startswith('-') or string[0].isdigit():\n",
    "            if not string.endswith('.'):\n",
    "                try: \n",
    "                    e=float(string)\n",
    "                    validation=True\n",
    "                    print(validation)\n",
    "                except:\n",
    "                    print(validation)\n",
    "            else:\n",
    "                print(validation)\n",
    "        else:\n",
    "            print(validation)\n",
    "    else:\n",
    "        print(validation)"
   ]
  },
  {
   "cell_type": "code",
   "execution_count": null,
   "metadata": {},
   "outputs": [],
   "source": [
    "#Re split()\n",
    "regex_pattern = r\"[\\.\\,]\"\t# Do not delete 'r'.\n",
    "\n",
    "import re\n",
    "print(\"\\n\".join(re.split(regex_pattern, input())))"
   ]
  },
  {
   "cell_type": "code",
   "execution_count": null,
   "metadata": {},
   "outputs": [],
   "source": [
    "#Set.add()\n",
    "s={}\n",
    "s=set(s)\n",
    "for i in range(int(input())):\n",
    "    name=input()\n",
    "    s.add(name)\n",
    "print(len(s))\n",
    "    "
   ]
  },
  {
   "cell_type": "code",
   "execution_count": 31,
   "metadata": {},
   "outputs": [
    {
     "name": "stdout",
     "output_type": "stream",
     "text": [
      "0\n"
     ]
    }
   ],
   "source": [
    "import re\n",
    "regex=re.search(r'(A-)\\1+','1234sncs00dncsjnnsjkdcn')\n",
    "if regex is None:\n",
    "    print(-1)\n",
    "else:\n",
    "    print(regex[0][0])"
   ]
  },
  {
   "cell_type": "code",
   "execution_count": 49,
   "metadata": {},
   "outputs": [
    {
     "name": "stdout",
     "output_type": "stream",
     "text": [
      "122\n",
      "2\n"
     ]
    }
   ],
   "source": [
    "#Group(), Groups() & Groupdict()\n",
    "\n",
    "\n",
    "import re\n",
    "inp1=input()\n",
    "inpu=''.join(e for e in inp1 if e.isalnum())\n",
    "regex=re.search(r'(\\w)\\1+',inpu)\n",
    "if regex is None:\n",
    "    print(-1)\n",
    "else:\n",
    "    print(regex[0][0])"
   ]
  },
  {
   "cell_type": "code",
   "execution_count": null,
   "metadata": {},
   "outputs": [],
   "source": [
    "#Min and Max\n",
    "\n"
   ]
  }
 ],
 "metadata": {
  "kernelspec": {
   "display_name": "Python 3",
   "language": "python",
   "name": "python3"
  },
  "language_info": {
   "codemirror_mode": {
    "name": "ipython",
    "version": 3
   },
   "file_extension": ".py",
   "mimetype": "text/x-python",
   "name": "python",
   "nbconvert_exporter": "python",
   "pygments_lexer": "ipython3",
   "version": "3.7.1"
  }
 },
 "nbformat": 4,
 "nbformat_minor": 2
}
