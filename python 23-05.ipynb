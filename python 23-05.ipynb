{
 "cells": [
  {
   "cell_type": "code",
   "execution_count": null,
   "metadata": {},
   "outputs": [],
   "source": [
    "#collections counter\n",
    "\n",
    "#without using it\n",
    "\n",
    "#from collections import Counter\n",
    "input()\n",
    "sizelist=list(map(int,input().strip().split()))\n",
    "#c=Counter(sizelist)\n",
    "N=int(input())\n",
    "total=0\n",
    "for i in range(N):\n",
    "    req=list(map(int,input().strip().split()))\n",
    "    if req[0] in sizelist:\n",
    "        total+=req[1]\n",
    "        sizelist.remove(req[0])\n",
    "print(total)\n"
   ]
  },
  {
   "cell_type": "code",
   "execution_count": null,
   "metadata": {},
   "outputs": [],
   "source": [
    "#Polar Cordinates\n",
    "\n",
    "import cmath\n",
    "a=complex(input())\n",
    "print(abs(a))\n",
    "print(cmath.phase(a))"
   ]
  },
  {
   "cell_type": "code",
   "execution_count": null,
   "metadata": {},
   "outputs": [],
   "source": [
    "#Triangle quest\n",
    "for i in range(1,int(input())):\n",
    "    print((((10**i)-1)//9)*i)"
   ]
  },
  {
   "cell_type": "code",
   "execution_count": null,
   "metadata": {},
   "outputs": [],
   "source": [
    "#Triangle quest 2\n",
    "for i in range(1,int(input())+1):\n",
    "    print(int(((10**i)-1)/9)**2)\n"
   ]
  },
  {
   "cell_type": "code",
   "execution_count": null,
   "metadata": {},
   "outputs": [],
   "source": [
    "#Python mod-divmod\n",
    "\n",
    "a=int(input())\n",
    "b=int(input())\n",
    "print(a//b)\n",
    "print(a%b)\n",
    "print(divmod(a,b))"
   ]
  },
  {
   "cell_type": "code",
   "execution_count": null,
   "metadata": {},
   "outputs": [],
   "source": [
    "#Python mod-divmod\n",
    "\n",
    "a=int(input())\n",
    "b=int(input())\n",
    "print(a//b)\n",
    "print(a%b)\n",
    "print(divmod(a,b))"
   ]
  },
  {
   "cell_type": "code",
   "execution_count": null,
   "metadata": {},
   "outputs": [],
   "source": [
    "#integers come in all sizes\n",
    "a=int(input())\n",
    "b=int(input())\n",
    "c=int(input())\n",
    "d=int(input())\n",
    "print(pow(a,b)+pow(c,d))"
   ]
  },
  {
   "cell_type": "code",
   "execution_count": null,
   "metadata": {},
   "outputs": [],
   "source": [
    "#np dot and cross\n",
    "import numpy as np\n",
    "\n",
    "N=int(input())\n",
    "\n",
    "a=[]\n",
    "\n",
    "for i in range(N):\n",
    "    loc=list(map(int,input().strip().split()))\n",
    "    a.append(loc)\n",
    "b=[]\n",
    "for i in range(N):\n",
    "    loc=list(map(int,input().strip().split()))\n",
    "    b.append(loc)\n",
    "\n",
    "\n",
    "A=np.array(a)\n",
    "B=np.array(b)\n",
    "\n",
    "print(np.dot(A,B))"
   ]
  },
  {
   "cell_type": "code",
   "execution_count": null,
   "metadata": {},
   "outputs": [],
   "source": [
    "#np inner and outer\n",
    "import numpy as np\n",
    "a=list(map(int,input().strip().split()))\n",
    "b=list(map(int,input().strip().split()))\n",
    "\n",
    "A=np.array(a)\n",
    "B=np.array(b)\n",
    "\n",
    "print(np.inner(A,B))\n",
    "print(np.outer(A,B))"
   ]
  },
  {
   "cell_type": "code",
   "execution_count": null,
   "metadata": {},
   "outputs": [],
   "source": [
    "#np polynomials\n",
    "import numpy as np\n",
    "P=list(map(float,input().strip().split()))\n",
    "a=int(input())\n",
    "print (np.polyval(P, a))"
   ]
  },
  {
   "cell_type": "code",
   "execution_count": null,
   "metadata": {},
   "outputs": [],
   "source": [
    "#np linear algebra\n",
    "\n",
    "import numpy as np\n",
    "N=int(input())\n",
    "\n",
    "mat=[]\n",
    "for i in range(N):\n",
    "    A=list(map(float,input().strip().split()))\n",
    "    mat.append(A)\n",
    "\n",
    "\n",
    "print(round(np.linalg.det(mat),2))\n"
   ]
  },
  {
   "cell_type": "code",
   "execution_count": 4,
   "metadata": {},
   "outputs": [
    {
     "name": "stdout",
     "output_type": "stream",
     "text": [
      "05 25 2019\n",
      "SATURDAY\n"
     ]
    }
   ],
   "source": [
    "#Calendar module\n",
    "import calendar\n",
    "month, date, year = map(int,input().strip().split())\n",
    "c=calendar.weekday(year,month, date)\n",
    "if c==0:\n",
    "    print('MONDAY')\n",
    "elif c==1:\n",
    "    print('TUESDAY')\n",
    "elif c==2:\n",
    "    print('WEDNESDAY')\n",
    "elif c==3:\n",
    "    print('THURSDAY')\n",
    "elif c==4:\n",
    "    print('FRIDAY')\n",
    "elif c==5:\n",
    "    print('SATURDAY')\n",
    "elif c==6:\n",
    "    print('SUNDAY')\n",
    "    "
   ]
  },
  {
   "cell_type": "code",
   "execution_count": null,
   "metadata": {},
   "outputs": [],
   "source": []
  }
 ],
 "metadata": {
  "kernelspec": {
   "display_name": "Python 3",
   "language": "python",
   "name": "python3"
  },
  "language_info": {
   "codemirror_mode": {
    "name": "ipython",
    "version": 3
   },
   "file_extension": ".py",
   "mimetype": "text/x-python",
   "name": "python",
   "nbconvert_exporter": "python",
   "pygments_lexer": "ipython3",
   "version": "3.7.1"
  }
 },
 "nbformat": 4,
 "nbformat_minor": 2
}
