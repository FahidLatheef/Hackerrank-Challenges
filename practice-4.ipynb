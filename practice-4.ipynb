{
 "cells": [
  {
   "cell_type": "code",
   "execution_count": 68,
   "metadata": {},
   "outputs": [
    {
     "name": "stdout",
     "output_type": "stream",
     "text": [
      "13 39\n",
      "------------------.|.------------------\n",
      "---------------.|..|..|.---------------\n",
      "------------.|..|..|..|..|.------------\n",
      "---------.|..|..|..|..|..|..|.---------\n",
      "------.|..|..|..|..|..|..|..|..|.------\n",
      "---.|..|..|..|..|..|..|..|..|..|..|.---\n",
      "----------------WELCOME----------------\n",
      "---.|..|..|..|..|..|..|..|..|..|..|.---\n",
      "------.|..|..|..|..|..|..|..|..|.------\n",
      "---------.|..|..|..|..|..|..|.---------\n",
      "------------.|..|..|..|..|.------------\n",
      "---------------.|..|..|.---------------\n",
      "------------------.|.------------------\n"
     ]
    }
   ],
   "source": [
    "#Designer Door Mat\n",
    "N,M=input().strip().split()\n",
    "M=int(M)\n",
    "N=int(N)\n",
    "lst=[]\n",
    "if N%2!=0 and M==3*N:   \n",
    "    pattern='.|.'\n",
    "    for i in range((N-1)//2):\n",
    "        lst.append('-'*(((M-3)//2)-(3*i))+pattern*(2*i+1)+'-'*(((M-3)//2)-(3*i)))\n",
    "    rev_lst=lst[::-1]\n",
    "    middle= '-'*((M-7)//2)+'WELCOME'+'-'*((M-7)//2)\n",
    "    lst.append(middle)\n",
    "    for ele in rev_lst:\n",
    "        lst.append(ele)\n",
    "    print(\"\\n\".join(lst))"
   ]
  },
  {
   "cell_type": "code",
   "execution_count": 73,
   "metadata": {},
   "outputs": [
    {
     "name": "stdout",
     "output_type": "stream",
     "text": [
      "17\n",
      "    1     1     1     1\n",
      "    2     2     2    10\n",
      "    3     3     3    11\n",
      "    4     4     4   100\n",
      "    5     5     5   101\n",
      "    6     6     6   110\n",
      "    7     7     7   111\n",
      "    8    10     8  1000\n",
      "    9    11     9  1001\n",
      "   10    12     A  1010\n",
      "   11    13     B  1011\n",
      "   12    14     C  1100\n",
      "   13    15     D  1101\n",
      "   14    16     E  1110\n",
      "   15    17     F  1111\n",
      "   16    20    10 10000\n",
      "   17    21    11 10001\n"
     ]
    }
   ],
   "source": [
    "#STRING FORMATING\n",
    "def print_formatted(number):\n",
    "    length=len(format(number,'b'))\n",
    "    for i in range(1,number+1):\n",
    "        h=print(\n",
    "            '{:>{}}'.format(i,length),\n",
    "            '{:>{}}'.format(format(i,'o'),length),\n",
    "            '{:>{}}'.format(format(i,'x').upper(),length),\n",
    "            '{:>{}}'.format(format(i,'b'),length)\n",
    "            )\n",
    "    return h\n",
    "    \n",
    "\n",
    "if __name__ == '__main__':\n",
    "    n = int(input())\n",
    "    print_formatted(n)"
   ]
  },
  {
   "cell_type": "code",
   "execution_count": 20,
   "metadata": {},
   "outputs": [
    {
     "data": {
      "text/plain": [
       "'0x1'"
      ]
     },
     "execution_count": 20,
     "metadata": {},
     "output_type": "execute_result"
    }
   ],
   "source": [
    "hex(1)"
   ]
  },
  {
   "cell_type": "code",
   "execution_count": 30,
   "metadata": {},
   "outputs": [
    {
     "data": {
      "text/plain": [
       "'0o143'"
      ]
     },
     "execution_count": 30,
     "metadata": {},
     "output_type": "execute_result"
    }
   ],
   "source": [
    "oct(99)"
   ]
  },
  {
   "cell_type": "code",
   "execution_count": 121,
   "metadata": {},
   "outputs": [
    {
     "name": "stdout",
     "output_type": "stream",
     "text": [
      "4\n"
     ]
    }
   ],
   "source": [
    "#Alphabet Rangoli\n",
    "    \n",
    "def print_rangoli(size):\n",
    "    numlen=(size*4)-3\n",
    "    alphabet=\"abcdefghijklmnopqrstuvwxyz\"\n",
    "    lis=[]\n",
    "    for i in range(size):    \n",
    "        string=alphabet[i:size]\n",
    "        reversed_string=string[::-1]\n",
    "        required_string=reversed_string+string[1:]\n",
    "        joined_string=\"-\".join(required_string)\n",
    "        lis.append(joined_string)\n",
    "    lis_reversed=lis[::-1]\n",
    "    final_lis=lis_reversed+lis[1:]\n",
    "    for iterator in range(len(final_lis)):\n",
    "        final_lis[iterator]='{0:-^{numlen}}'.format(final_lis[iterator],numlen=numlen)\n",
    "    return \"\\n\".join(final_lis)\n",
    "    \n",
    "\n",
    "if __name__ == '__main__':\n",
    "    n = int(input())\n",
    "    print_rangoli(n)\n",
    "\n",
    "\n",
    "\n"
   ]
  },
  {
   "cell_type": "code",
   "execution_count": 83,
   "metadata": {},
   "outputs": [
    {
     "data": {
      "text/plain": [
       "'-255-'"
      ]
     },
     "execution_count": 83,
     "metadata": {},
     "output_type": "execute_result"
    }
   ],
   "source": [
    "'{0:-^5}'.format(0xFF)"
   ]
  },
  {
   "cell_type": "code",
   "execution_count": 76,
   "metadata": {},
   "outputs": [],
   "source": [
    "alphabet=\"abcdefghijklmnopqrstuvwxyz\"\n",
    "num=5\n",
    "end=alphabet[num-1]\n",
    "middle=alphabet[num-1]\n",
    "\n"
   ]
  },
  {
   "cell_type": "code",
   "execution_count": 99,
   "metadata": {},
   "outputs": [
    {
     "data": {
      "text/plain": [
       "'--------------------------------ed---------------------------------'"
      ]
     },
     "execution_count": 99,
     "metadata": {},
     "output_type": "execute_result"
    }
   ],
   "source": [
    "string='abcde'\n",
    "nim=8\n",
    "'{0:-^}'.format(string[::-1][0:2])"
   ]
  },
  {
   "cell_type": "code",
   "execution_count": 102,
   "metadata": {},
   "outputs": [],
   "source": [
    "d='2'"
   ]
  },
  {
   "cell_type": "code",
   "execution_count": 103,
   "metadata": {},
   "outputs": [
    {
     "data": {
      "text/plain": [
       "'2'"
      ]
     },
     "execution_count": 103,
     "metadata": {},
     "output_type": "execute_result"
    }
   ],
   "source": [
    "\"-\".join(d)"
   ]
  },
  {
   "cell_type": "code",
   "execution_count": 104,
   "metadata": {},
   "outputs": [],
   "source": [
    "a=[3,2]\n",
    "b=[2,3]"
   ]
  },
  {
   "cell_type": "code",
   "execution_count": 105,
   "metadata": {},
   "outputs": [
    {
     "data": {
      "text/plain": [
       "[3, 2, 2, 3]"
      ]
     },
     "execution_count": 105,
     "metadata": {},
     "output_type": "execute_result"
    }
   ],
   "source": [
    "a+b"
   ]
  },
  {
   "cell_type": "code",
   "execution_count": 118,
   "metadata": {},
   "outputs": [],
   "source": [
    "size=5\n",
    "numlen=(size*4)-3\n",
    "alphabet=\"abcdefghijklmnopqrstuvwxyz\"\n",
    "lis=[]\n",
    "for i in range(size):    \n",
    "    string=alphabet[i:size]\n",
    "    reversed_string=string[::-1]\n",
    "    required_string=reversed_string+string[1:]\n",
    "    joined_string=\"-\".join(required_string)\n",
    "    lis.append(joined_string)\n",
    "lis_reversed=lis[::-1]\n",
    "final_lis=lis_reversed+lis[1:]\n",
    "for iterator in range(len(final_lis)):\n",
    "    final_lis[iterator]='{0:-^17}'.format(final_lis[iterator])"
   ]
  },
  {
   "cell_type": "code",
   "execution_count": 122,
   "metadata": {},
   "outputs": [
    {
     "name": "stdout",
     "output_type": "stream",
     "text": [
      "['--------e--------', '------e-d-e------', '----e-d-c-d-e----', '--e-d-c-b-c-d-e--', 'e-d-c-b-a-b-c-d-e', '--e-d-c-b-c-d-e--', '----e-d-c-d-e----', '------e-d-e------', '--------e--------']\n"
     ]
    }
   ],
   "source": [
    "print(final_lis)"
   ]
  },
  {
   "cell_type": "code",
   "execution_count": 115,
   "metadata": {},
   "outputs": [
    {
     "data": {
      "text/plain": [
       "<generator object print_rangoli at 0x0000028E39711840>"
      ]
     },
     "execution_count": 115,
     "metadata": {},
     "output_type": "execute_result"
    }
   ],
   "source": [
    "print_rangoli(5)"
   ]
  },
  {
   "cell_type": "code",
   "execution_count": 116,
   "metadata": {},
   "outputs": [],
   "source": [
    "lis=[23,12]"
   ]
  },
  {
   "cell_type": "code",
   "execution_count": 126,
   "metadata": {},
   "outputs": [
    {
     "name": "stdout",
     "output_type": "stream",
     "text": [
      "4\n",
      "------d------\n",
      "----d-c-d----\n",
      "--d-c-b-c-d--\n",
      "d-c-b-a-b-c-d\n",
      "--d-c-b-c-d--\n",
      "----d-c-d----\n",
      "------d------\n"
     ]
    }
   ],
   "source": [
    "#Alphabet Rangoli\n",
    "    \n",
    "def print_rangoli(size):\n",
    "    numlen=(size*4)-3\n",
    "    alphabet=\"abcdefghijklmnopqrstuvwxyz\"\n",
    "    lis=[]\n",
    "    for i in range(size):    \n",
    "        string=alphabet[i:size]\n",
    "        reversed_string=string[::-1]\n",
    "        required_string=reversed_string+string[1:]\n",
    "        joined_string=\"-\".join(required_string)\n",
    "        lis.append(joined_string)\n",
    "    lis_reversed=lis[::-1]\n",
    "    final_lis=lis_reversed+lis[1:]\n",
    "    for iterator in range(len(final_lis)):\n",
    "        final_lis[iterator]='{0:-^{numlen}}'.format(final_lis[iterator],numlen=numlen)\n",
    "    return print(\"\\n\".join(final_lis))\n",
    "    \n",
    "\n",
    "if __name__ == '__main__':\n",
    "    n = int(input())\n",
    "    print_rangoli(n)"
   ]
  },
  {
   "cell_type": "code",
   "execution_count": null,
   "metadata": {},
   "outputs": [],
   "source": [
    "#Swap Case\n",
    "\n",
    "def swap_case(s):\n",
    "    lst=list(s)\n",
    "    for i in range(len(s)):\n",
    "        if lst[i].islower():\n",
    "            lst[i]=lst[i].upper()\n",
    "        elif lst[i].isupper():\n",
    "            lst[i]=lst[i].lower()\n",
    "        else:\n",
    "            pass\n",
    "    return \"\".join(lst)\n",
    "    \n",
    "if __name__ == '__main__':\n",
    "    s = input()\n",
    "    result = swap_case(s)\n",
    "    print(result)"
   ]
  },
  {
   "cell_type": "code",
   "execution_count": null,
   "metadata": {},
   "outputs": [],
   "source": [
    "#Capitalize\n",
    "\n",
    "#!/bin/python3\n",
    "\n",
    "import math\n",
    "import os\n",
    "import random\n",
    "import re\n",
    "import sys\n",
    "\n",
    "def solve(s):\n",
    "    loc=s.strip().split(\" \")\n",
    "    for i in range(len(loc)):\n",
    "        loc[i]=loc[i].capitalize()\n",
    "    return \" \".join(loc)\n",
    "\n",
    "if __name__ == '__main__':\n",
    "    fptr = open(os.environ['OUTPUT_PATH'], 'w')\n",
    "\n",
    "    s = input()\n",
    "\n",
    "    result = solve(s)\n",
    "\n",
    "    fptr.write(result + '\\n')\n",
    "\n",
    "    fptr.close()\n"
   ]
  },
  {
   "cell_type": "code",
   "execution_count": null,
   "metadata": {},
   "outputs": [],
   "source": [
    "#Minion game \n",
    "def minion_game(string):\n",
    "    \n",
    "    vowels={'A','E','I','O','U'}\n",
    "    stuart_cons=0\n",
    "    kevin_vow=0\n",
    "    length=len(string)\n",
    "    for i, ele in enumerate(string):\n",
    "        if ele in vowels:\n",
    "            kevin_vow+=length-i\n",
    "        else:\n",
    "            stuart_cons+=length-i\n",
    "\n",
    "    if stuart_cons==kevin_vow:\n",
    "        print('Draw')\n",
    "    elif stuart_cons<kevin_vow:\n",
    "        print('Kevin {}'.format(kevin_vow))\n",
    "    else:\n",
    "        print('Stuart {}'.format(stuart_cons))\n",
    "    \n",
    "    return\n",
    "if __name__ == '__main__':\n",
    "    s = input()\n",
    "    minion_game(s)\n"
   ]
  },
  {
   "cell_type": "code",
   "execution_count": null,
   "metadata": {},
   "outputs": [],
   "source": [
    "#Merge the tools\n",
    "from collections import OrderedDict\n",
    "def merge_the_tools(string, k):\n",
    "    length =len(string)\n",
    "    t1=[]\n",
    "    rownum=length//k\n",
    "    lst=[]\n",
    "    for i in range(rownum):\n",
    "        t1.append(string[k*i:k*(i+1)])\n",
    "    for ele in t1:\n",
    "        print(\"\".join(OrderedDict.fromkeys(ele)))\n",
    "    \n",
    "\n",
    "if __name__ == '__main__':\n",
    "    string, k = input(), int(input())\n",
    "    merge_the_tools(string, k)"
   ]
  },
  {
   "cell_type": "code",
   "execution_count": null,
   "metadata": {},
   "outputs": [],
   "source": [
    "#Incorrect Regex\n",
    "import re\n",
    "inp=int(input())\n",
    "text='randomtext'\n",
    "for i in range(inp):\n",
    "    try:\n",
    "        tmp=re.search(input(),text)\n",
    "        print(True)\n",
    "    except:\n",
    "        print(False)"
   ]
  },
  {
   "cell_type": "code",
   "execution_count": null,
   "metadata": {},
   "outputs": [],
   "source": [
    "#np mean var std\n",
    "import numpy as np\n",
    "N,M=input().strip().split(' ')\n",
    "N,M=int(N),int(M)\n",
    "A=[]\n",
    "B=[]\n",
    "for i in range(N):\n",
    "    B=input().strip().split()\n",
    "    for ele in B:\n",
    "        A.append(int(ele))\n",
    "arr=np.array(A)\n",
    "arr.shape=(N,M)\n",
    "np.set_printoptions(legacy='1.13')\n",
    "print(np.mean(arr,axis=1))\n",
    "print(np.var(arr,axis=0))\n",
    "print(np.std(arr,axis=None))"
   ]
  },
  {
   "cell_type": "code",
   "execution_count": null,
   "metadata": {},
   "outputs": [],
   "source": [
    "#Itertools product\n",
    "from itertools import product\n",
    "a=input().split(\" \")\n",
    "A=[int(ele) for ele in a]\n",
    "b=input().split(\" \")\n",
    "B=[int(ele) for ele in b]\n",
    "for elements in product(A,B):\n",
    "    print(elements,sep=\"\",end=\" \")"
   ]
  },
  {
   "cell_type": "code",
   "execution_count": null,
   "metadata": {},
   "outputs": [],
   "source": [
    "#Itertools permutations\n",
    "from itertools import permutations\n",
    "a,b=input().split(\" \")\n",
    "B=int(b)\n",
    "lis=[]\n",
    "for elements in list(permutations(a,B)):\n",
    "    lis.append(\"\".join(elements))\n",
    "lis.sort()\n",
    "for ele in lis:\n",
    "    print(ele)\n"
   ]
  },
  {
   "cell_type": "code",
   "execution_count": null,
   "metadata": {},
   "outputs": [],
   "source": [
    "#itertools combinations\n",
    "from itertools import combinations\n",
    "a,b=input().split(\" \")\n",
    "B=int(b)\n",
    "lisele=[]\n",
    "for i in range(B):\n",
    "    lis=[]\n",
    "    for elements in list(combinations(a,i+1)):\n",
    "        elelist=list(elements)\n",
    "        elelist.sort()\n",
    "        lis.append(\"\".join(elelist))\n",
    "        lis.sort()\n",
    "    lisele.extend(lis)\n",
    "for ele in lisele:\n",
    "    print(ele)"
   ]
  },
  {
   "cell_type": "code",
   "execution_count": null,
   "metadata": {},
   "outputs": [],
   "source": [
    "#combinations with replacement\n",
    "from itertools import combinations_with_replacement\n",
    "a,b=input().split(\" \")\n",
    "B=int(b)\n",
    "lisele=[]\n",
    "\n",
    "lis=[]\n",
    "for elements in list(combinations_with_replacement(a,B)):\n",
    "    elelist=list(elements)\n",
    "    elelist.sort()\n",
    "    lis.append(\"\".join(elelist))\n",
    "    lis.sort()\n",
    "lisele.extend(lis)\n",
    "for ele in lisele:\n",
    "    print(ele)"
   ]
  },
  {
   "cell_type": "code",
   "execution_count": null,
   "metadata": {},
   "outputs": [],
   "source": [
    "#Compress the string\n",
    "from collections import OrderedDict\n",
    "inp=input()\n",
    "od=OrderedDict()\n",
    "lis=[]\n",
    "outlis=[]\n",
    "for ele in inp:\n",
    "    if ele in lis and ele!=lis[-1] :\n",
    "        lis.clear()\n",
    "        outlis.extend(list(od.items()))\n",
    "        od.clear()\n",
    "        od[ele]=1\n",
    "        lis.append(ele)\n",
    "        continue\n",
    "    elif ele not in lis:\n",
    "        lis.append(ele)\n",
    "    \n",
    "    if ele in od:\n",
    "        od[ele]+=1\n",
    "    else:\n",
    "        od[ele]=1\n",
    "outlis.extend(list(od.items()))\n",
    "for elements in outlis:\n",
    "    print((elements[1],int(elements[0])),sep=\"\",end=\" \")"
   ]
  },
  {
   "cell_type": "code",
   "execution_count": null,
   "metadata": {},
   "outputs": [],
   "source": [
    "#iterable and iterators\n",
    "from itertools import combinations\n",
    "n=int(input())\n",
    "string=input().strip().split()\n",
    "k=int(input())\n",
    "c=list(combinations(string,k))\n",
    "countofa=0\n",
    "for ele in c:\n",
    "    if 'a' in ele:\n",
    "        countofa+=1\n",
    "print(round(countofa/len(c),5))"
   ]
  },
  {
   "cell_type": "code",
   "execution_count": null,
   "metadata": {},
   "outputs": [],
   "source": [
    "#Maximise it\n",
    "\n",
    "from itertools import product\n",
    "#import operator\n",
    "\n",
    "def square_sum(x):\n",
    "    sum=0\n",
    "    for ele in x:\n",
    "        sum+=ele*ele\n",
    "    return sum\n",
    "    \n",
    "K,M=input().strip().split(\" \")\n",
    "K,M=int(K), int(M)\n",
    "biglis=[]\n",
    "for i in range(K):\n",
    "    inp=input().strip().split(\" \")\n",
    "    inp.pop(0)\n",
    "    intinp=list(int(ele) for ele in inp)\n",
    "    biglis.append(intinp)\n",
    "\n",
    "c=list(product(*biglis))\n",
    "#dic={}\n",
    "sum_list=[]\n",
    "for element in c:\n",
    "    #dic[element]=square_sum(element)%M\n",
    "    sum_list.append(square_sum(element)%M)\n",
    "#maxima_key=max(dic.items(), key=operator.itemgetter(1))[0] # to print maximum key\n",
    "maxima=max(sum_list)\n",
    "print(maxima)"
   ]
  },
  {
   "cell_type": "code",
   "execution_count": null,
   "metadata": {},
   "outputs": [],
   "source": [
    "#Introduction to Sets\n",
    "def average(array):\n",
    "    setter=set(array)\n",
    "    return sum(setter)/len(setter)\n",
    "    # your code goes here\n",
    "\n",
    "if __name__ == '__main__':\n",
    "    n = int(input())\n",
    "    arr = list(map(int, input().split()))\n",
    "    result = average(arr)\n",
    "    print(result)"
   ]
  },
  {
   "cell_type": "code",
   "execution_count": null,
   "metadata": {},
   "outputs": [],
   "source": [
    "#symmetric diffference\n",
    "\n",
    "M=int(input())\n",
    "lis1=list(map(int,input().strip().split()))\n",
    "N=int(input())\n",
    "lis2=list(map(int,input().strip().split()))\n",
    "set1=set(lis1)\n",
    "set2=set(lis2)\n",
    "set12=set1.difference(set2)\n",
    "set21=set2.difference(set1)\n",
    "symset=set12.union(set21)\n",
    "symsetlist=list(symset)\n",
    "#print(symsetlist)\n",
    "sos=sorted(symsetlist)\n",
    "#print(sos)\n",
    "for ele in sos:\n",
    "    print (ele)"
   ]
  }
 ],
 "metadata": {
  "kernelspec": {
   "display_name": "Python 3",
   "language": "python",
   "name": "python3"
  },
  "language_info": {
   "codemirror_mode": {
    "name": "ipython",
    "version": 3
   },
   "file_extension": ".py",
   "mimetype": "text/x-python",
   "name": "python",
   "nbconvert_exporter": "python",
   "pygments_lexer": "ipython3",
   "version": "3.7.1"
  }
 },
 "nbformat": 4,
 "nbformat_minor": 2
}
