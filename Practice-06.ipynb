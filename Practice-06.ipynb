{
 "cells": [
  {
   "cell_type": "code",
   "execution_count": null,
   "metadata": {
    "scrolled": true
   },
   "outputs": [],
   "source": [
    "#################################################################\n",
    "# Time Delta\n",
    "from datetime import datetime\n",
    "\n",
    "t = int(input())\n",
    "\n",
    "for t_itr in range(t):\n",
    "    t1 = input()\n",
    "\n",
    "    t2 = input()\n",
    "\n",
    "    fmt = '%a %d %b %Y %H:%M:%S %z'\n",
    "    print(int(abs((datetime.strptime(t1, fmt) - \n",
    "                   datetime.strptime(t2, fmt)).total_seconds())))\n",
    "#################################################################"
   ]
  },
  {
   "cell_type": "code",
   "execution_count": null,
   "metadata": {
    "scrolled": true
   },
   "outputs": [],
   "source": [
    "#################################################################\n",
    "#Re.findall() & Re.finditer()\n",
    "import re\n",
    "s = input()\n",
    "h = re.findall(r'(?<=[QWRTYPSDFGHJKLZXCVBNMqwrtypsdfghjklzxcvbnm]){1,}[aeiouAEIOU]{2,}(?=[QWRTYPSDFGHJKLZXCVBNMqwrtypsdfghjklzxcvbnm]){1,}',s)\n",
    "if len(h) == 0:\n",
    "    print(-1)\n",
    "else:\n",
    "    for ele in h:\n",
    "        print (ele)\n",
    "#################################################################"
   ]
  },
  {
   "cell_type": "code",
   "execution_count": null,
   "metadata": {},
   "outputs": [],
   "source": [
    "#################################################################\n",
    "# Re.start() & Re.end()\n",
    "import re\n",
    "inp = input()\n",
    "searcher = input()\n",
    "match = None\n",
    "matches = re.finditer(r'(?=({0}))'.format(searcher), inp)\n",
    "for match in matches:\n",
    "    print((match.start(),match.start()+len(searcher)-1))\n",
    "if match is None:\n",
    "    print((-1,-1))\n",
    "#################################################################"
   ]
  },
  {
   "cell_type": "code",
   "execution_count": null,
   "metadata": {},
   "outputs": [],
   "source": [
    "#################################################################\n",
    "#Re.sub()\n",
    "import re\n",
    "for i in range(int(input())):\n",
    "    text = input()\n",
    "    first = re.sub(r'(?<!^)[\\s][&][&][\\s](?<!$)',' and ', text)\n",
    "    second = re.sub(r'(?<!^)[\\s][|][|][\\s](?<!$)',' or ', first)\n",
    "    third = re.sub(r'(?<!^)[\\s][&][&][\\s](?<!$)',' and ', second)\n",
    "    forth = re.sub(r'(?<!^)[\\s][|][|][\\s](?<!$)',' or ', third)\n",
    "    fifth = re.sub(r'(?<!^)[\\s][&][&][\\s](?<!$)',' and ', forth)\n",
    "    sixth = re.sub(r'(?<!^)[\\s][|][|][\\s](?<!$)',' or ', fifth)\n",
    "    print(sixth)\n",
    "#################################################################"
   ]
  },
  {
   "cell_type": "code",
   "execution_count": null,
   "metadata": {},
   "outputs": [],
   "source": [
    "#################################################################\n",
    "#Validating Roman Numerals\n",
    "regex_pattern = r\"M{0,3}(CD|D{0,1}C{0,3}|CM){0,1}(XL|(?<![I])L{0,1}X{0,3}|XC){0,1}(IV|V{0,1}I{0,3}|IX){0,1}$\"\n",
    "import re\n",
    "print(str(bool(re.match(regex_pattern, input())))))\n",
    "#################################################################"
   ]
  },
  {
   "cell_type": "code",
   "execution_count": null,
   "metadata": {},
   "outputs": [],
   "source": [
    "#################################################################\n",
    "#Validating phone numbers\n",
    "import re\n",
    "pattern = r\"^[789][0123456789]{9}$\"\n",
    "for i in range(int(input())):\n",
    "    x = re.search(pattern, input())\n",
    "    if x is None:\n",
    "        print('NO')\n",
    "    else:\n",
    "        print('YES')"
   ]
  }
 ],
 "metadata": {
  "kernelspec": {
   "display_name": "Python 3",
   "language": "python",
   "name": "python3"
  },
  "language_info": {
   "codemirror_mode": {
    "name": "ipython",
    "version": 3
   },
   "file_extension": ".py",
   "mimetype": "text/x-python",
   "name": "python",
   "nbconvert_exporter": "python",
   "pygments_lexer": "ipython3",
   "version": "3.7.1"
  }
 },
 "nbformat": 4,
 "nbformat_minor": 2
}
